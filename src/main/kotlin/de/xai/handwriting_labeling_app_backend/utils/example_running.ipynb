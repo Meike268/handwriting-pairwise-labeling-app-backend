{
 "cells": [
  {
   "metadata": {
    "ExecuteTime": {
     "end_time": "2025-05-19T06:44:41.559740Z",
     "start_time": "2025-05-19T06:41:25.116799Z"
    }
   },
   "cell_type": "code",
   "source": [
    "import json\n",
    "import subprocess\n",
    "from typing import List, Tuple\n",
    "\n",
    "def get_pairs_to_compare(matrix: List[List[int]]) -> Tuple[List[Tuple[int, int]], float]:\n",
    "    # Path to the Python script\n",
    "    python_script_path = \"asap_runner.py\"\n",
    "\n",
    "    # Prepare the input for the Python script\n",
    "    input_data = json.dumps({\"matrix\": matrix})\n",
    "    \n",
    "    # Run the Python script using subprocess\n",
    "    process = subprocess.Popen(\n",
    "        ['python', python_script_path],\n",
    "        stdin=subprocess.PIPE,\n",
    "        stdout=subprocess.PIPE,\n",
    "        stderr=subprocess.PIPE\n",
    "    )\n",
    "    \n",
    "    # Write the input data to the script\n",
    "    stdout, stderr = process.communicate(input_data.encode())\n",
    "    \n",
    "    if process.returncode != 0:\n",
    "        raise RuntimeError(f\"Error running ASAP script: {stderr.decode()}\")\n",
    "\n",
    "    # Parse the output from the Python script\n",
    "    result = json.loads(stdout.decode())\n",
    "\n",
    "    # Extract pairs and max_eig\n",
    "    pairs = [(pair[0], pair[1]) for pair in result.get(\"pairs\", [])]\n",
    "    max_eig = result.get(\"max_eig\", 0.0)\n",
    "\n",
    "    return pairs, max_eig\n",
    "\n",
    "# Example usage\n",
    "matrix = [[0] * 100 for _ in range(100)]\n",
    "\n",
    "\n",
    "pairs, max_eig = get_pairs_to_compare(matrix)\n",
    "print(f\"Pairs: {pairs}\")\n",
    "print(f\"Max Eigenvalue: {max_eig}\")\n"
   ],
   "outputs": [
    {
     "name": "stdout",
     "output_type": "stream",
     "text": [
      "Pairs: [(1, 3), (53, 86), (41, 61), (49, 65), (3, 32), (1, 17), (31, 80), (22, 91), (19, 24), (53, 99), (16, 83), (59, 95), (62, 63), (11, 29), (14, 73), (29, 82), (10, 74), (40, 59), (61, 80), (38, 84), (45, 78), (26, 52), (0, 32), (2, 68), (10, 85), (0, 13), (8, 47), (38, 91), (8, 21), (21, 82), (18, 40), (9, 64), (41, 91), (11, 45), (21, 59), (65, 96), (46, 91), (29, 89), (9, 35), (31, 67), (13, 29), (39, 44), (24, 25), (29, 60), (68, 69), (17, 72), (8, 92), (20, 82), (3, 57), (69, 73), (32, 34), (16, 57), (27, 38), (19, 43), (7, 39), (27, 49), (83, 88), (56, 58), (10, 24), (31, 34), (36, 46), (79, 83), (56, 99), (54, 82), (58, 68), (22, 51), (12, 60), (15, 97), (1, 85), (3, 64), (14, 61), (25, 30), (23, 37), (21, 71), (63, 98), (13, 97), (50, 78), (0, 55), (7, 71), (28, 43), (42, 90), (14, 62), (6, 78), (87, 95), (26, 41), (16, 94), (42, 94), (36, 70), (44, 66), (14, 76), (48, 80), (63, 75), (16, 77), (5, 62), (23, 35), (77, 93), (33, 57), (4, 41), (11, 81)]\n",
      "Max Eigenvalue: 0.9997926271906828\n"
     ]
    }
   ],
   "execution_count": 7
  },
  {
   "metadata": {
    "scrolled": true,
    "ExecuteTime": {
     "end_time": "2025-05-18T14:22:16.155869Z",
     "start_time": "2025-05-18T14:22:11.802206Z"
    }
   },
   "cell_type": "code",
   "outputs": [
    {
     "name": "stdout",
     "output_type": "stream",
     "text": [
      "Indeces from pwc_mat to compare:\n",
      "[[0 1]\n",
      " [0 2]\n",
      " [1 4]\n",
      " [0 3]]\n",
      "Scores means \n",
      " [-0.16621793 -0.03432645 -0.19113272 -0.23717982  0.59297576]\n",
      "Scores standard deviaion \n",
      " [0.2863883  0.31506783 0.29302759 0.28949065 0.29409095]\n",
      "Expected Information Gain \n",
      " [[ 0.          0.          0.          0.          0.        ]\n",
      " [ 5.08467836  0.          0.          0.          0.        ]\n",
      " [ 5.07482948  5.06737825  0.          0.          0.        ]\n",
      " [ 5.07181058  5.06196475  5.05512198  0.          0.        ]\n",
      " [ 5.03847373  5.07441324 -1.          5.06636637  0.        ]]\n"
     ]
    }
   ],
   "execution_count": 1,
   "source": [
    "# Example of running ASAP on CPU\n",
    "import asap_cpu\n",
    "import numpy as np\n",
    "pwc_mat = np.array([[0,1,2,3,1],\n",
    "                    [1,0,2,3,1],\n",
    "                    [1,2,0,3,1],\n",
    "                    [1,2,3,0,1],\n",
    "                    [10,2,3,1,0]])\n",
    "N = np.shape(pwc_mat)[0]\n",
    "asap = asap_cpu.ASAP(N, selective_eig = True)\n",
    "kl_divs, pairs_to_compare = asap.run_asap(pwc_mat, mst_mode=True)\n",
    "\n",
    "# Get current score estimation\n",
    "scores_mean, scores_std = asap.get_scores()\n",
    "\n",
    "\n",
    "\n",
    "print(\"Indeces from pwc_mat to compare:\")\n",
    "print(pairs_to_compare)\n",
    "print(\"Scores means \\n\",scores_mean)\n",
    "print(\"Scores standard deviaion \\n\", scores_std)\n",
    "print(\"Expected Information Gain \\n\", kl_divs)\n"
   ]
  },
  {
   "cell_type": "code",
   "execution_count": null,
   "metadata": {
    "scrolled": true
   },
   "outputs": [],
   "source": [
    "# Example of running asap_gpu. Note, that due to computational/space optimizations\n",
    "# selected batch of comparisons might be different from the pure CPU version\n",
    "\n",
    "import asap_gpu\n",
    "import numpy as np\n",
    "pwc_mat = np.array([[0,1,2,3,1],\n",
    "                    [1,0,2,3,1],\n",
    "                    [1,2,0,3,1],\n",
    "                    [1,2,3,0,1],\n",
    "                    [1,2,3,1,0]])\n",
    "pairs, scores_mean, scores_std = asap_gpu.ASAP(pwc_mat, mst_mode=True, cuda=True, get_scores = True)\n",
    "\n",
    "print(\"Indeces from pwc_mat to compare:\")\n",
    "print(pairs)\n",
    "print(\"Scores means \\n\",scores_mean)\n",
    "print(\"Scores standard deviaion \\n\", scores_std)\n",
    "\n"
   ]
  },
  {
   "cell_type": "code",
   "metadata": {
    "ExecuteTime": {
     "end_time": "2025-05-16T15:56:13.826523Z",
     "start_time": "2025-05-16T15:56:13.184331Z"
    }
   },
   "source": [
    "# Example of running ASAP-approx on CPU\n",
    "\n",
    "import asap_cpu\n",
    "import numpy as np\n",
    "pwc_mat = np.array([[0,1,2,3,1],\n",
    "                    [1,0,2,3,1],\n",
    "                    [1,2,0,3,1],\n",
    "                    [1,2,3,0,1],\n",
    "                    [1,2,3,1,0]])\n",
    "N = np.shape(pwc_mat)[0]\n",
    "asap = asap_cpu.ASAP(N, selective_eig = True, approx = True)\n",
    "pairs_to_compare = asap.run_asap(pwc_mat, mst_mode=True)\n",
    "\n",
    "# Get current score estimation\n",
    "scores_mean, scores_std = asap.get_scores()\n",
    "\n",
    "print(\"Indeces from pwc_mat to compare:\")\n",
    "print(pairs_to_compare)\n",
    "print(\"Scores means \\n\",scores_mean)\n",
    "print(\"Scores standard deviaion \\n\", scores_std)"
   ],
   "outputs": [
    {
     "name": "stdout",
     "output_type": "stream",
     "text": [
      "Indeces from pwc_mat to compare:\n",
      "[[0 4]\n",
      " [0 1]\n",
      " [0 2]\n",
      " [0 3]]\n",
      "Scores means \n",
      " [ 0.21775777 -0.03481698 -0.18566486 -0.19490767  0.22731459]\n",
      "Scores standard deviaion \n",
      " [0.34988997 0.31438954 0.29271232 0.29199316 0.34936609]\n"
     ]
    }
   ],
   "execution_count": 2
  },
  {
   "metadata": {},
   "cell_type": "code",
   "outputs": [],
   "execution_count": null,
   "source": ""
  }
 ],
 "metadata": {
  "kernelspec": {
   "display_name": "Python 3",
   "language": "python",
   "name": "python3"
  },
  "language_info": {
   "codemirror_mode": {
    "name": "ipython",
    "version": 3
   },
   "file_extension": ".py",
   "mimetype": "text/x-python",
   "name": "python",
   "nbconvert_exporter": "python",
   "pygments_lexer": "ipython3",
   "version": "3.8.10"
  }
 },
 "nbformat": 4,
 "nbformat_minor": 2
}
