{
 "cells": [
  {
   "metadata": {
    "ExecuteTime": {
     "end_time": "2025-05-29T12:54:08.264584Z",
     "start_time": "2025-05-29T12:51:03.020323Z"
    }
   },
   "cell_type": "code",
   "source": [
    "import json\n",
    "import subprocess\n",
    "from typing import List, Tuple\n",
    "\n",
    "def get_pairs_to_compare(matrix: List[List[int]]) -> Tuple[List[Tuple[int, int]], float]:\n",
    "    # Path to the Python script\n",
    "    python_script_path = \"asap_runner.py\"\n",
    "\n",
    "    # Prepare the input for the Python script\n",
    "    input_data = json.dumps({\"matrix\": matrix})\n",
    "    \n",
    "    # Run the Python script using subprocess\n",
    "    process = subprocess.Popen(\n",
    "        ['python', python_script_path],\n",
    "        stdin=subprocess.PIPE,\n",
    "        stdout=subprocess.PIPE,\n",
    "        stderr=subprocess.PIPE\n",
    "    )\n",
    "    \n",
    "    # Write the input data to the script\n",
    "    stdout, stderr = process.communicate(input_data.encode())\n",
    "    \n",
    "    if process.returncode != 0:\n",
    "        raise RuntimeError(f\"Error running ASAP script: {stderr.decode()}\")\n",
    "\n",
    "    # Parse the output from the Python script\n",
    "    result = json.loads(stdout.decode())\n",
    "\n",
    "    # Extract pairs and max_eig\n",
    "    pairs = [(pair[0], pair[1]) for pair in result.get(\"pairs\", [])]\n",
    "    max_eig = result.get(\"max_eig\", 0.0)\n",
    "\n",
    "    return pairs, max_eig\n",
    "\n",
    "# Example usage\n",
    "matrix = [[0] * 100 for _ in range(100)]\n",
    "\n",
    "\n",
    "pairs, max_eig = get_pairs_to_compare(matrix)\n",
    "print(f\"Pairs: {pairs}\")\n",
    "print(f\"Max Eigenvalue: {max_eig}\")\n"
   ],
   "outputs": [
    {
     "name": "stdout",
     "output_type": "stream",
     "text": [
      "Pairs: [(37, 99), (52, 92), (50, 70), (34, 86), (20, 59), (69, 90), (67, 74), (24, 88), (89, 94), (31, 40), (62, 70), (5, 53), (12, 28), (53, 79), (2, 39), (60, 74), (36, 85), (13, 51), (15, 79), (56, 77), (44, 45), (37, 80), (47, 63), (31, 62), (16, 79), (50, 64), (44, 94), (19, 69), (29, 60), (15, 68), (0, 38), (39, 92), (2, 35), (26, 43), (37, 74), (3, 78), (24, 33), (18, 27), (6, 84), (25, 56), (43, 44), (25, 76), (20, 90), (18, 49), (8, 77), (1, 96), (65, 69), (22, 91), (4, 22), (11, 65), (51, 99), (29, 35), (22, 76), (19, 41), (3, 88), (1, 13), (55, 78), (44, 53), (32, 83), (18, 31), (14, 18), (10, 42), (37, 70), (56, 84), (26, 61), (8, 87), (62, 89), (10, 52), (80, 93), (78, 91), (15, 58), (7, 19), (26, 57), (24, 81), (6, 32), (27, 98), (33, 59), (20, 94), (13, 47), (20, 30), (23, 32), (86, 99), (64, 71), (21, 87), (15, 54), (28, 60), (26, 48), (37, 95), (2, 97), (17, 51), (20, 75), (14, 82), (30, 36), (0, 20), (5, 66), (66, 73), (9, 36), (43, 46), (72, 89)]\n",
      "Max Eigenvalue: 0.9995041510857687\n"
     ]
    }
   ],
   "execution_count": 1
  },
  {
   "metadata": {
    "scrolled": true,
    "ExecuteTime": {
     "end_time": "2025-05-19T12:55:21.618469Z",
     "start_time": "2025-05-19T12:55:21.299823Z"
    }
   },
   "cell_type": "code",
   "source": [
    "# Example of running ASAP on CPU\n",
    "import asap_cpu\n",
    "import numpy as np\n",
    "pwc_mat = np.array([[0,20,2,30,1],\n",
    "                    [1,0,2,3,1],\n",
    "                    [1,2,0,3,1],\n",
    "                    [1,2,3,0,1],\n",
    "                    [5,2,3,1,0]])\n",
    "N = np.shape(pwc_mat)[0]\n",
    "asap = asap_cpu.ASAP(N, selective_eig = True)\n",
    "kl_divs, pairs_to_compare = asap.run_asap(pwc_mat, mst_mode=True)\n",
    "\n",
    "# Get current score estimation\n",
    "scores_mean, scores_std = asap.get_scores()\n",
    "\n",
    "\n",
    "\n",
    "print(\"Indeces from pwc_mat to compare:\")\n",
    "print(pairs_to_compare)\n",
    "print(\"Scores means \\n\",scores_mean)\n",
    "print(\"Scores standard deviaion \\n\", scores_std)\n",
    "# print(\"Expected Information Gain \\n\", kl_divs)\n"
   ],
   "outputs": [
    {
     "name": "stdout",
     "output_type": "stream",
     "text": [
      "Indeces from pwc_mat to compare:\n",
      "[[1 2]\n",
      " [0 4]\n",
      " [2 3]\n",
      " [1 4]]\n",
      "Scores means \n",
      " [ 0.67833984 -0.510293   -0.3357907  -0.64994346  0.54639733]\n",
      "Scores standard deviaion \n",
      " [0.21515566 0.25591309 0.296008   0.23823284 0.31112951]\n"
     ]
    }
   ],
   "execution_count": 8
  },
  {
   "cell_type": "code",
   "execution_count": null,
   "metadata": {
    "scrolled": true
   },
   "outputs": [],
   "source": [
    "# Example of running asap_gpu. Note, that due to computational/space optimizations\n",
    "# selected batch of comparisons might be different from the pure CPU version\n",
    "\n",
    "import asap_gpu\n",
    "import numpy as np\n",
    "pwc_mat = np.array([[0,1,2,3,1],\n",
    "                    [1,0,2,3,1],\n",
    "                    [1,2,0,3,1],\n",
    "                    [1,2,3,0,1],\n",
    "                    [1,2,3,1,0]])\n",
    "pairs, scores_mean, scores_std = asap_gpu.ASAP(pwc_mat, mst_mode=True, cuda=True, get_scores = True)\n",
    "\n",
    "print(\"Indeces from pwc_mat to compare:\")\n",
    "print(pairs)\n",
    "print(\"Scores means \\n\",scores_mean)\n",
    "print(\"Scores standard deviaion \\n\", scores_std)\n",
    "\n"
   ]
  },
  {
   "cell_type": "code",
   "metadata": {
    "ExecuteTime": {
     "end_time": "2025-05-16T15:56:13.826523Z",
     "start_time": "2025-05-16T15:56:13.184331Z"
    }
   },
   "source": [
    "# Example of running ASAP-approx on CPU\n",
    "\n",
    "import asap_cpu\n",
    "import numpy as np\n",
    "pwc_mat = np.array([[0,1,2,3,1],\n",
    "                    [1,0,2,3,1],\n",
    "                    [1,2,0,3,1],\n",
    "                    [1,2,3,0,1],\n",
    "                    [1,2,3,1,0]])\n",
    "N = np.shape(pwc_mat)[0]\n",
    "asap = asap_cpu.ASAP(N, selective_eig = True, approx = True)\n",
    "pairs_to_compare = asap.run_asap(pwc_mat, mst_mode=True)\n",
    "\n",
    "# Get current score estimation\n",
    "scores_mean, scores_std = asap.get_scores()\n",
    "\n",
    "print(\"Indeces from pwc_mat to compare:\")\n",
    "print(pairs_to_compare)\n",
    "print(\"Scores means \\n\",scores_mean)\n",
    "print(\"Scores standard deviaion \\n\", scores_std)"
   ],
   "outputs": [
    {
     "name": "stdout",
     "output_type": "stream",
     "text": [
      "Indeces from pwc_mat to compare:\n",
      "[[0 4]\n",
      " [0 1]\n",
      " [0 2]\n",
      " [0 3]]\n",
      "Scores means \n",
      " [ 0.21775777 -0.03481698 -0.18566486 -0.19490767  0.22731459]\n",
      "Scores standard deviaion \n",
      " [0.34988997 0.31438954 0.29271232 0.29199316 0.34936609]\n"
     ]
    }
   ],
   "execution_count": 2
  },
  {
   "metadata": {},
   "cell_type": "code",
   "outputs": [],
   "execution_count": null,
   "source": ""
  }
 ],
 "metadata": {
  "kernelspec": {
   "display_name": "Python 3",
   "language": "python",
   "name": "python3"
  },
  "language_info": {
   "codemirror_mode": {
    "name": "ipython",
    "version": 3
   },
   "file_extension": ".py",
   "mimetype": "text/x-python",
   "name": "python",
   "nbconvert_exporter": "python",
   "pygments_lexer": "ipython3",
   "version": "3.8.10"
  }
 },
 "nbformat": 4,
 "nbformat_minor": 2
}
